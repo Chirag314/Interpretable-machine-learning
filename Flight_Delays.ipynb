{
  "cells": [
    {
      "cell_type": "markdown",
      "metadata": {
        "id": "view-in-github",
        "colab_type": "text"
      },
      "source": [
        "<a href=\"https://colab.research.google.com/github/Chirag314/Interpretable-machine-learning/blob/main/Flight_Delays.ipynb\" target=\"_parent\"><img src=\"https://colab.research.google.com/assets/colab-badge.svg\" alt=\"Open In Colab\"/></a>"
      ]
    },
    {
      "cell_type": "code",
      "execution_count": null,
      "metadata": {
        "colab": {
          "base_uri": "https://localhost:8080/"
        },
        "id": "TkRetR0_zjpF",
        "outputId": "e5799a22-8dee-4b96-dc5e-17b472f31158"
      },
      "outputs": [
        {
          "name": "stdout",
          "output_type": "stream",
          "text": [
            "Requirement already satisfied: interpret in /usr/local/lib/python3.10/dist-packages (0.5.0)\n",
            "Requirement already satisfied: interpret-core[dash,debug,linear,notebook,plotly,sensitivity,shap]==0.5.0 in /usr/local/lib/python3.10/dist-packages (from interpret) (0.5.0)\n",
            "Requirement already satisfied: numpy>=1.11.1 in /usr/local/lib/python3.10/dist-packages (from interpret-core[dash,debug,linear,notebook,plotly,sensitivity,shap]==0.5.0->interpret) (1.23.5)\n",
            "Requirement already satisfied: scipy>=0.18.1 in /usr/local/lib/python3.10/dist-packages (from interpret-core[dash,debug,linear,notebook,plotly,sensitivity,shap]==0.5.0->interpret) (1.11.4)\n",
            "Requirement already satisfied: pandas>=0.19.2 in /usr/local/lib/python3.10/dist-packages (from interpret-core[dash,debug,linear,notebook,plotly,sensitivity,shap]==0.5.0->interpret) (1.5.3)\n",
            "Requirement already satisfied: scikit-learn>=0.18.1 in /usr/local/lib/python3.10/dist-packages (from interpret-core[dash,debug,linear,notebook,plotly,sensitivity,shap]==0.5.0->interpret) (1.2.2)\n",
            "Requirement already satisfied: joblib>=0.11 in /usr/local/lib/python3.10/dist-packages (from interpret-core[dash,debug,linear,notebook,plotly,sensitivity,shap]==0.5.0->interpret) (1.3.2)\n",
            "Requirement already satisfied: shap>=0.28.5 in /usr/local/lib/python3.10/dist-packages (from interpret-core[dash,debug,linear,notebook,plotly,sensitivity,shap]==0.5.0->interpret) (0.44.0)\n",
            "Requirement already satisfied: dill>=0.2.5 in /usr/local/lib/python3.10/dist-packages (from interpret-core[dash,debug,linear,notebook,plotly,sensitivity,shap]==0.5.0->interpret) (0.3.7)\n",
            "Requirement already satisfied: dash>=1.0.0 in /usr/local/lib/python3.10/dist-packages (from interpret-core[dash,debug,linear,notebook,plotly,sensitivity,shap]==0.5.0->interpret) (2.14.2)\n",
            "Requirement already satisfied: dash-core-components>=1.0.0 in /usr/local/lib/python3.10/dist-packages (from interpret-core[dash,debug,linear,notebook,plotly,sensitivity,shap]==0.5.0->interpret) (2.0.0)\n",
            "Requirement already satisfied: dash-html-components>=1.0.0 in /usr/local/lib/python3.10/dist-packages (from interpret-core[dash,debug,linear,notebook,plotly,sensitivity,shap]==0.5.0->interpret) (2.0.0)\n",
            "Requirement already satisfied: dash-table>=4.1.0 in /usr/local/lib/python3.10/dist-packages (from interpret-core[dash,debug,linear,notebook,plotly,sensitivity,shap]==0.5.0->interpret) (5.0.0)\n",
            "Requirement already satisfied: dash-cytoscape>=0.1.1 in /usr/local/lib/python3.10/dist-packages (from interpret-core[dash,debug,linear,notebook,plotly,sensitivity,shap]==0.5.0->interpret) (0.3.0)\n",
            "Requirement already satisfied: gevent>=1.3.6 in /usr/local/lib/python3.10/dist-packages (from interpret-core[dash,debug,linear,notebook,plotly,sensitivity,shap]==0.5.0->interpret) (23.9.1)\n",
            "Requirement already satisfied: requests>=2.19.0 in /usr/local/lib/python3.10/dist-packages (from interpret-core[dash,debug,linear,notebook,plotly,sensitivity,shap]==0.5.0->interpret) (2.31.0)\n",
            "Requirement already satisfied: psutil>=5.6.2 in /usr/local/lib/python3.10/dist-packages (from interpret-core[dash,debug,linear,notebook,plotly,sensitivity,shap]==0.5.0->interpret) (5.9.5)\n",
            "Requirement already satisfied: SALib>=1.3.3 in /usr/local/lib/python3.10/dist-packages (from interpret-core[dash,debug,linear,notebook,plotly,sensitivity,shap]==0.5.0->interpret) (1.4.7)\n",
            "Requirement already satisfied: ipykernel>=4.10.0 in /usr/local/lib/python3.10/dist-packages (from interpret-core[dash,debug,linear,notebook,plotly,sensitivity,shap]==0.5.0->interpret) (5.5.6)\n",
            "Requirement already satisfied: ipython>=5.5.0 in /usr/local/lib/python3.10/dist-packages (from interpret-core[dash,debug,linear,notebook,plotly,sensitivity,shap]==0.5.0->interpret) (7.34.0)\n",
            "Requirement already satisfied: plotly>=3.8.1 in /usr/local/lib/python3.10/dist-packages (from interpret-core[dash,debug,linear,notebook,plotly,sensitivity,shap]==0.5.0->interpret) (5.15.0)\n",
            "Requirement already satisfied: Flask<3.1,>=1.0.4 in /usr/local/lib/python3.10/dist-packages (from dash>=1.0.0->interpret-core[dash,debug,linear,notebook,plotly,sensitivity,shap]==0.5.0->interpret) (2.2.5)\n",
            "Requirement already satisfied: Werkzeug<3.1 in /usr/local/lib/python3.10/dist-packages (from dash>=1.0.0->interpret-core[dash,debug,linear,notebook,plotly,sensitivity,shap]==0.5.0->interpret) (3.0.1)\n",
            "Requirement already satisfied: typing-extensions>=4.1.1 in /usr/local/lib/python3.10/dist-packages (from dash>=1.0.0->interpret-core[dash,debug,linear,notebook,plotly,sensitivity,shap]==0.5.0->interpret) (4.5.0)\n",
            "Requirement already satisfied: retrying in /usr/local/lib/python3.10/dist-packages (from dash>=1.0.0->interpret-core[dash,debug,linear,notebook,plotly,sensitivity,shap]==0.5.0->interpret) (1.3.4)\n",
            "Requirement already satisfied: ansi2html in /usr/local/lib/python3.10/dist-packages (from dash>=1.0.0->interpret-core[dash,debug,linear,notebook,plotly,sensitivity,shap]==0.5.0->interpret) (1.9.1)\n",
            "Requirement already satisfied: nest-asyncio in /usr/local/lib/python3.10/dist-packages (from dash>=1.0.0->interpret-core[dash,debug,linear,notebook,plotly,sensitivity,shap]==0.5.0->interpret) (1.5.9)\n",
            "Requirement already satisfied: setuptools in /usr/local/lib/python3.10/dist-packages (from dash>=1.0.0->interpret-core[dash,debug,linear,notebook,plotly,sensitivity,shap]==0.5.0->interpret) (67.7.2)\n",
            "Requirement already satisfied: importlib-metadata in /usr/local/lib/python3.10/dist-packages (from dash>=1.0.0->interpret-core[dash,debug,linear,notebook,plotly,sensitivity,shap]==0.5.0->interpret) (7.0.1)\n",
            "Requirement already satisfied: zope.event in /usr/local/lib/python3.10/dist-packages (from gevent>=1.3.6->interpret-core[dash,debug,linear,notebook,plotly,sensitivity,shap]==0.5.0->interpret) (5.0)\n",
            "Requirement already satisfied: zope.interface in /usr/local/lib/python3.10/dist-packages (from gevent>=1.3.6->interpret-core[dash,debug,linear,notebook,plotly,sensitivity,shap]==0.5.0->interpret) (6.1)\n",
            "Requirement already satisfied: greenlet>=2.0.0 in /usr/local/lib/python3.10/dist-packages (from gevent>=1.3.6->interpret-core[dash,debug,linear,notebook,plotly,sensitivity,shap]==0.5.0->interpret) (3.0.3)\n",
            "Requirement already satisfied: ipython-genutils in /usr/local/lib/python3.10/dist-packages (from ipykernel>=4.10.0->interpret-core[dash,debug,linear,notebook,plotly,sensitivity,shap]==0.5.0->interpret) (0.2.0)\n",
            "Requirement already satisfied: traitlets>=4.1.0 in /usr/local/lib/python3.10/dist-packages (from ipykernel>=4.10.0->interpret-core[dash,debug,linear,notebook,plotly,sensitivity,shap]==0.5.0->interpret) (5.7.1)\n",
            "Requirement already satisfied: jupyter-client in /usr/local/lib/python3.10/dist-packages (from ipykernel>=4.10.0->interpret-core[dash,debug,linear,notebook,plotly,sensitivity,shap]==0.5.0->interpret) (6.1.12)\n",
            "Requirement already satisfied: tornado>=4.2 in /usr/local/lib/python3.10/dist-packages (from ipykernel>=4.10.0->interpret-core[dash,debug,linear,notebook,plotly,sensitivity,shap]==0.5.0->interpret) (6.3.2)\n",
            "Requirement already satisfied: jedi>=0.16 in /usr/local/lib/python3.10/dist-packages (from ipython>=5.5.0->interpret-core[dash,debug,linear,notebook,plotly,sensitivity,shap]==0.5.0->interpret) (0.19.1)\n",
            "Requirement already satisfied: decorator in /usr/local/lib/python3.10/dist-packages (from ipython>=5.5.0->interpret-core[dash,debug,linear,notebook,plotly,sensitivity,shap]==0.5.0->interpret) (4.4.2)\n",
            "Requirement already satisfied: pickleshare in /usr/local/lib/python3.10/dist-packages (from ipython>=5.5.0->interpret-core[dash,debug,linear,notebook,plotly,sensitivity,shap]==0.5.0->interpret) (0.7.5)\n",
            "Requirement already satisfied: prompt-toolkit!=3.0.0,!=3.0.1,<3.1.0,>=2.0.0 in /usr/local/lib/python3.10/dist-packages (from ipython>=5.5.0->interpret-core[dash,debug,linear,notebook,plotly,sensitivity,shap]==0.5.0->interpret) (3.0.43)\n",
            "Requirement already satisfied: pygments in /usr/local/lib/python3.10/dist-packages (from ipython>=5.5.0->interpret-core[dash,debug,linear,notebook,plotly,sensitivity,shap]==0.5.0->interpret) (2.16.1)\n",
            "Requirement already satisfied: backcall in /usr/local/lib/python3.10/dist-packages (from ipython>=5.5.0->interpret-core[dash,debug,linear,notebook,plotly,sensitivity,shap]==0.5.0->interpret) (0.2.0)\n",
            "Requirement already satisfied: matplotlib-inline in /usr/local/lib/python3.10/dist-packages (from ipython>=5.5.0->interpret-core[dash,debug,linear,notebook,plotly,sensitivity,shap]==0.5.0->interpret) (0.1.6)\n",
            "Requirement already satisfied: pexpect>4.3 in /usr/local/lib/python3.10/dist-packages (from ipython>=5.5.0->interpret-core[dash,debug,linear,notebook,plotly,sensitivity,shap]==0.5.0->interpret) (4.9.0)\n",
            "Requirement already satisfied: python-dateutil>=2.8.1 in /usr/local/lib/python3.10/dist-packages (from pandas>=0.19.2->interpret-core[dash,debug,linear,notebook,plotly,sensitivity,shap]==0.5.0->interpret) (2.8.2)\n",
            "Requirement already satisfied: pytz>=2020.1 in /usr/local/lib/python3.10/dist-packages (from pandas>=0.19.2->interpret-core[dash,debug,linear,notebook,plotly,sensitivity,shap]==0.5.0->interpret) (2023.3.post1)\n",
            "Requirement already satisfied: tenacity>=6.2.0 in /usr/local/lib/python3.10/dist-packages (from plotly>=3.8.1->interpret-core[dash,debug,linear,notebook,plotly,sensitivity,shap]==0.5.0->interpret) (8.2.3)\n",
            "Requirement already satisfied: packaging in /usr/local/lib/python3.10/dist-packages (from plotly>=3.8.1->interpret-core[dash,debug,linear,notebook,plotly,sensitivity,shap]==0.5.0->interpret) (23.2)\n",
            "Requirement already satisfied: charset-normalizer<4,>=2 in /usr/local/lib/python3.10/dist-packages (from requests>=2.19.0->interpret-core[dash,debug,linear,notebook,plotly,sensitivity,shap]==0.5.0->interpret) (3.3.2)\n",
            "Requirement already satisfied: idna<4,>=2.5 in /usr/local/lib/python3.10/dist-packages (from requests>=2.19.0->interpret-core[dash,debug,linear,notebook,plotly,sensitivity,shap]==0.5.0->interpret) (3.6)\n",
            "Requirement already satisfied: urllib3<3,>=1.21.1 in /usr/local/lib/python3.10/dist-packages (from requests>=2.19.0->interpret-core[dash,debug,linear,notebook,plotly,sensitivity,shap]==0.5.0->interpret) (2.0.7)\n",
            "Requirement already satisfied: certifi>=2017.4.17 in /usr/local/lib/python3.10/dist-packages (from requests>=2.19.0->interpret-core[dash,debug,linear,notebook,plotly,sensitivity,shap]==0.5.0->interpret) (2023.11.17)\n",
            "Requirement already satisfied: matplotlib>=3.2.2 in /usr/local/lib/python3.10/dist-packages (from SALib>=1.3.3->interpret-core[dash,debug,linear,notebook,plotly,sensitivity,shap]==0.5.0->interpret) (3.7.1)\n",
            "Requirement already satisfied: multiprocess in /usr/local/lib/python3.10/dist-packages (from SALib>=1.3.3->interpret-core[dash,debug,linear,notebook,plotly,sensitivity,shap]==0.5.0->interpret) (0.70.15)\n",
            "Requirement already satisfied: threadpoolctl>=2.0.0 in /usr/local/lib/python3.10/dist-packages (from scikit-learn>=0.18.1->interpret-core[dash,debug,linear,notebook,plotly,sensitivity,shap]==0.5.0->interpret) (3.2.0)\n",
            "Requirement already satisfied: tqdm>=4.27.0 in /usr/local/lib/python3.10/dist-packages (from shap>=0.28.5->interpret-core[dash,debug,linear,notebook,plotly,sensitivity,shap]==0.5.0->interpret) (4.66.1)\n",
            "Requirement already satisfied: slicer==0.0.7 in /usr/local/lib/python3.10/dist-packages (from shap>=0.28.5->interpret-core[dash,debug,linear,notebook,plotly,sensitivity,shap]==0.5.0->interpret) (0.0.7)\n",
            "Requirement already satisfied: numba in /usr/local/lib/python3.10/dist-packages (from shap>=0.28.5->interpret-core[dash,debug,linear,notebook,plotly,sensitivity,shap]==0.5.0->interpret) (0.58.1)\n",
            "Requirement already satisfied: cloudpickle in /usr/local/lib/python3.10/dist-packages (from shap>=0.28.5->interpret-core[dash,debug,linear,notebook,plotly,sensitivity,shap]==0.5.0->interpret) (2.2.1)\n",
            "Requirement already satisfied: Jinja2>=3.0 in /usr/local/lib/python3.10/dist-packages (from Flask<3.1,>=1.0.4->dash>=1.0.0->interpret-core[dash,debug,linear,notebook,plotly,sensitivity,shap]==0.5.0->interpret) (3.1.3)\n",
            "Requirement already satisfied: itsdangerous>=2.0 in /usr/local/lib/python3.10/dist-packages (from Flask<3.1,>=1.0.4->dash>=1.0.0->interpret-core[dash,debug,linear,notebook,plotly,sensitivity,shap]==0.5.0->interpret) (2.1.2)\n",
            "Requirement already satisfied: click>=8.0 in /usr/local/lib/python3.10/dist-packages (from Flask<3.1,>=1.0.4->dash>=1.0.0->interpret-core[dash,debug,linear,notebook,plotly,sensitivity,shap]==0.5.0->interpret) (8.1.7)\n",
            "Requirement already satisfied: parso<0.9.0,>=0.8.3 in /usr/local/lib/python3.10/dist-packages (from jedi>=0.16->ipython>=5.5.0->interpret-core[dash,debug,linear,notebook,plotly,sensitivity,shap]==0.5.0->interpret) (0.8.3)\n",
            "Requirement already satisfied: contourpy>=1.0.1 in /usr/local/lib/python3.10/dist-packages (from matplotlib>=3.2.2->SALib>=1.3.3->interpret-core[dash,debug,linear,notebook,plotly,sensitivity,shap]==0.5.0->interpret) (1.2.0)\n",
            "Requirement already satisfied: cycler>=0.10 in /usr/local/lib/python3.10/dist-packages (from matplotlib>=3.2.2->SALib>=1.3.3->interpret-core[dash,debug,linear,notebook,plotly,sensitivity,shap]==0.5.0->interpret) (0.12.1)\n",
            "Requirement already satisfied: fonttools>=4.22.0 in /usr/local/lib/python3.10/dist-packages (from matplotlib>=3.2.2->SALib>=1.3.3->interpret-core[dash,debug,linear,notebook,plotly,sensitivity,shap]==0.5.0->interpret) (4.47.2)\n",
            "Requirement already satisfied: kiwisolver>=1.0.1 in /usr/local/lib/python3.10/dist-packages (from matplotlib>=3.2.2->SALib>=1.3.3->interpret-core[dash,debug,linear,notebook,plotly,sensitivity,shap]==0.5.0->interpret) (1.4.5)\n",
            "Requirement already satisfied: pillow>=6.2.0 in /usr/local/lib/python3.10/dist-packages (from matplotlib>=3.2.2->SALib>=1.3.3->interpret-core[dash,debug,linear,notebook,plotly,sensitivity,shap]==0.5.0->interpret) (9.4.0)\n",
            "Requirement already satisfied: pyparsing>=2.3.1 in /usr/local/lib/python3.10/dist-packages (from matplotlib>=3.2.2->SALib>=1.3.3->interpret-core[dash,debug,linear,notebook,plotly,sensitivity,shap]==0.5.0->interpret) (3.1.1)\n",
            "Requirement already satisfied: ptyprocess>=0.5 in /usr/local/lib/python3.10/dist-packages (from pexpect>4.3->ipython>=5.5.0->interpret-core[dash,debug,linear,notebook,plotly,sensitivity,shap]==0.5.0->interpret) (0.7.0)\n",
            "Requirement already satisfied: wcwidth in /usr/local/lib/python3.10/dist-packages (from prompt-toolkit!=3.0.0,!=3.0.1,<3.1.0,>=2.0.0->ipython>=5.5.0->interpret-core[dash,debug,linear,notebook,plotly,sensitivity,shap]==0.5.0->interpret) (0.2.13)\n",
            "Requirement already satisfied: six>=1.5 in /usr/local/lib/python3.10/dist-packages (from python-dateutil>=2.8.1->pandas>=0.19.2->interpret-core[dash,debug,linear,notebook,plotly,sensitivity,shap]==0.5.0->interpret) (1.16.0)\n",
            "Requirement already satisfied: MarkupSafe>=2.1.1 in /usr/local/lib/python3.10/dist-packages (from Werkzeug<3.1->dash>=1.0.0->interpret-core[dash,debug,linear,notebook,plotly,sensitivity,shap]==0.5.0->interpret) (2.1.3)\n",
            "Requirement already satisfied: zipp>=0.5 in /usr/local/lib/python3.10/dist-packages (from importlib-metadata->dash>=1.0.0->interpret-core[dash,debug,linear,notebook,plotly,sensitivity,shap]==0.5.0->interpret) (3.17.0)\n",
            "Requirement already satisfied: jupyter-core>=4.6.0 in /usr/local/lib/python3.10/dist-packages (from jupyter-client->ipykernel>=4.10.0->interpret-core[dash,debug,linear,notebook,plotly,sensitivity,shap]==0.5.0->interpret) (5.7.1)\n",
            "Requirement already satisfied: pyzmq>=13 in /usr/local/lib/python3.10/dist-packages (from jupyter-client->ipykernel>=4.10.0->interpret-core[dash,debug,linear,notebook,plotly,sensitivity,shap]==0.5.0->interpret) (23.2.1)\n",
            "Requirement already satisfied: llvmlite<0.42,>=0.41.0dev0 in /usr/local/lib/python3.10/dist-packages (from numba->shap>=0.28.5->interpret-core[dash,debug,linear,notebook,plotly,sensitivity,shap]==0.5.0->interpret) (0.41.1)\n",
            "Requirement already satisfied: platformdirs>=2.5 in /usr/local/lib/python3.10/dist-packages (from jupyter-core>=4.6.0->jupyter-client->ipykernel>=4.10.0->interpret-core[dash,debug,linear,notebook,plotly,sensitivity,shap]==0.5.0->interpret) (4.1.0)\n"
          ]
        }
      ],
      "source": [
        "!pip install interpret\n",
        "from interpret import set_visualize_provider\n",
        "from interpret.provider import InlineProvider\n",
        "set_visualize_provider(InlineProvider())"
      ]
    },
    {
      "cell_type": "code",
      "execution_count": null,
      "metadata": {
        "colab": {
          "base_uri": "https://localhost:8080/"
        },
        "id": "gViwA0qX0B3b",
        "outputId": "28b0b926-f5ba-416c-a416-609827909893"
      },
      "outputs": [
        {
          "name": "stdout",
          "output_type": "stream",
          "text": [
            "Requirement already satisfied: gaminet in /usr/local/lib/python3.10/dist-packages (0.6.1)\n",
            "Requirement already satisfied: matplotlib>=3.1.3 in /usr/local/lib/python3.10/dist-packages (from gaminet) (3.7.1)\n",
            "Requirement already satisfied: tensorflow>=2.0.0 in /usr/local/lib/python3.10/dist-packages (from gaminet) (2.15.0)\n",
            "Requirement already satisfied: numpy>=1.15.2 in /usr/local/lib/python3.10/dist-packages (from gaminet) (1.23.5)\n",
            "Requirement already satisfied: pandas>=0.19.2 in /usr/local/lib/python3.10/dist-packages (from gaminet) (1.5.3)\n",
            "Requirement already satisfied: scikit-learn>=0.23.0 in /usr/local/lib/python3.10/dist-packages (from gaminet) (1.2.2)\n",
            "Requirement already satisfied: tensorflow-lattice>=2.0.8 in /usr/local/lib/python3.10/dist-packages (from gaminet) (2.0.13)\n",
            "Requirement already satisfied: contourpy>=1.0.1 in /usr/local/lib/python3.10/dist-packages (from matplotlib>=3.1.3->gaminet) (1.2.0)\n",
            "Requirement already satisfied: cycler>=0.10 in /usr/local/lib/python3.10/dist-packages (from matplotlib>=3.1.3->gaminet) (0.12.1)\n",
            "Requirement already satisfied: fonttools>=4.22.0 in /usr/local/lib/python3.10/dist-packages (from matplotlib>=3.1.3->gaminet) (4.47.2)\n",
            "Requirement already satisfied: kiwisolver>=1.0.1 in /usr/local/lib/python3.10/dist-packages (from matplotlib>=3.1.3->gaminet) (1.4.5)\n",
            "Requirement already satisfied: packaging>=20.0 in /usr/local/lib/python3.10/dist-packages (from matplotlib>=3.1.3->gaminet) (23.2)\n",
            "Requirement already satisfied: pillow>=6.2.0 in /usr/local/lib/python3.10/dist-packages (from matplotlib>=3.1.3->gaminet) (9.4.0)\n",
            "Requirement already satisfied: pyparsing>=2.3.1 in /usr/local/lib/python3.10/dist-packages (from matplotlib>=3.1.3->gaminet) (3.1.1)\n",
            "Requirement already satisfied: python-dateutil>=2.7 in /usr/local/lib/python3.10/dist-packages (from matplotlib>=3.1.3->gaminet) (2.8.2)\n",
            "Requirement already satisfied: pytz>=2020.1 in /usr/local/lib/python3.10/dist-packages (from pandas>=0.19.2->gaminet) (2023.3.post1)\n",
            "Requirement already satisfied: scipy>=1.3.2 in /usr/local/lib/python3.10/dist-packages (from scikit-learn>=0.23.0->gaminet) (1.11.4)\n",
            "Requirement already satisfied: joblib>=1.1.1 in /usr/local/lib/python3.10/dist-packages (from scikit-learn>=0.23.0->gaminet) (1.3.2)\n",
            "Requirement already satisfied: threadpoolctl>=2.0.0 in /usr/local/lib/python3.10/dist-packages (from scikit-learn>=0.23.0->gaminet) (3.2.0)\n",
            "Requirement already satisfied: absl-py>=1.0.0 in /usr/local/lib/python3.10/dist-packages (from tensorflow>=2.0.0->gaminet) (1.4.0)\n",
            "Requirement already satisfied: astunparse>=1.6.0 in /usr/local/lib/python3.10/dist-packages (from tensorflow>=2.0.0->gaminet) (1.6.3)\n",
            "Requirement already satisfied: flatbuffers>=23.5.26 in /usr/local/lib/python3.10/dist-packages (from tensorflow>=2.0.0->gaminet) (23.5.26)\n",
            "Requirement already satisfied: gast!=0.5.0,!=0.5.1,!=0.5.2,>=0.2.1 in /usr/local/lib/python3.10/dist-packages (from tensorflow>=2.0.0->gaminet) (0.5.4)\n",
            "Requirement already satisfied: google-pasta>=0.1.1 in /usr/local/lib/python3.10/dist-packages (from tensorflow>=2.0.0->gaminet) (0.2.0)\n",
            "Requirement already satisfied: h5py>=2.9.0 in /usr/local/lib/python3.10/dist-packages (from tensorflow>=2.0.0->gaminet) (3.9.0)\n",
            "Requirement already satisfied: libclang>=13.0.0 in /usr/local/lib/python3.10/dist-packages (from tensorflow>=2.0.0->gaminet) (16.0.6)\n",
            "Requirement already satisfied: ml-dtypes~=0.2.0 in /usr/local/lib/python3.10/dist-packages (from tensorflow>=2.0.0->gaminet) (0.2.0)\n",
            "Requirement already satisfied: opt-einsum>=2.3.2 in /usr/local/lib/python3.10/dist-packages (from tensorflow>=2.0.0->gaminet) (3.3.0)\n",
            "Requirement already satisfied: protobuf!=4.21.0,!=4.21.1,!=4.21.2,!=4.21.3,!=4.21.4,!=4.21.5,<5.0.0dev,>=3.20.3 in /usr/local/lib/python3.10/dist-packages (from tensorflow>=2.0.0->gaminet) (3.20.3)\n",
            "Requirement already satisfied: setuptools in /usr/local/lib/python3.10/dist-packages (from tensorflow>=2.0.0->gaminet) (67.7.2)\n",
            "Requirement already satisfied: six>=1.12.0 in /usr/local/lib/python3.10/dist-packages (from tensorflow>=2.0.0->gaminet) (1.16.0)\n",
            "Requirement already satisfied: termcolor>=1.1.0 in /usr/local/lib/python3.10/dist-packages (from tensorflow>=2.0.0->gaminet) (2.4.0)\n",
            "Requirement already satisfied: typing-extensions>=3.6.6 in /usr/local/lib/python3.10/dist-packages (from tensorflow>=2.0.0->gaminet) (4.5.0)\n",
            "Requirement already satisfied: wrapt<1.15,>=1.11.0 in /usr/local/lib/python3.10/dist-packages (from tensorflow>=2.0.0->gaminet) (1.14.1)\n",
            "Requirement already satisfied: tensorflow-io-gcs-filesystem>=0.23.1 in /usr/local/lib/python3.10/dist-packages (from tensorflow>=2.0.0->gaminet) (0.35.0)\n",
            "Requirement already satisfied: grpcio<2.0,>=1.24.3 in /usr/local/lib/python3.10/dist-packages (from tensorflow>=2.0.0->gaminet) (1.60.0)\n",
            "Requirement already satisfied: tensorboard<2.16,>=2.15 in /usr/local/lib/python3.10/dist-packages (from tensorflow>=2.0.0->gaminet) (2.15.1)\n",
            "Requirement already satisfied: tensorflow-estimator<2.16,>=2.15.0 in /usr/local/lib/python3.10/dist-packages (from tensorflow>=2.0.0->gaminet) (2.15.0)\n",
            "Requirement already satisfied: keras<2.16,>=2.15.0 in /usr/local/lib/python3.10/dist-packages (from tensorflow>=2.0.0->gaminet) (2.15.0)\n",
            "Requirement already satisfied: graphviz in /usr/local/lib/python3.10/dist-packages (from tensorflow-lattice>=2.0.8->gaminet) (0.20.1)\n",
            "Requirement already satisfied: wheel<1.0,>=0.23.0 in /usr/local/lib/python3.10/dist-packages (from astunparse>=1.6.0->tensorflow>=2.0.0->gaminet) (0.42.0)\n",
            "Requirement already satisfied: google-auth<3,>=1.6.3 in /usr/local/lib/python3.10/dist-packages (from tensorboard<2.16,>=2.15->tensorflow>=2.0.0->gaminet) (2.17.3)\n",
            "Requirement already satisfied: google-auth-oauthlib<2,>=0.5 in /usr/local/lib/python3.10/dist-packages (from tensorboard<2.16,>=2.15->tensorflow>=2.0.0->gaminet) (1.2.0)\n",
            "Requirement already satisfied: markdown>=2.6.8 in /usr/local/lib/python3.10/dist-packages (from tensorboard<2.16,>=2.15->tensorflow>=2.0.0->gaminet) (3.5.2)\n",
            "Requirement already satisfied: requests<3,>=2.21.0 in /usr/local/lib/python3.10/dist-packages (from tensorboard<2.16,>=2.15->tensorflow>=2.0.0->gaminet) (2.31.0)\n",
            "Requirement already satisfied: tensorboard-data-server<0.8.0,>=0.7.0 in /usr/local/lib/python3.10/dist-packages (from tensorboard<2.16,>=2.15->tensorflow>=2.0.0->gaminet) (0.7.2)\n",
            "Requirement already satisfied: werkzeug>=1.0.1 in /usr/local/lib/python3.10/dist-packages (from tensorboard<2.16,>=2.15->tensorflow>=2.0.0->gaminet) (3.0.1)\n",
            "Requirement already satisfied: cachetools<6.0,>=2.0.0 in /usr/local/lib/python3.10/dist-packages (from google-auth<3,>=1.6.3->tensorboard<2.16,>=2.15->tensorflow>=2.0.0->gaminet) (5.3.2)\n",
            "Requirement already satisfied: pyasn1-modules>=0.2.1 in /usr/local/lib/python3.10/dist-packages (from google-auth<3,>=1.6.3->tensorboard<2.16,>=2.15->tensorflow>=2.0.0->gaminet) (0.3.0)\n",
            "Requirement already satisfied: rsa<5,>=3.1.4 in /usr/local/lib/python3.10/dist-packages (from google-auth<3,>=1.6.3->tensorboard<2.16,>=2.15->tensorflow>=2.0.0->gaminet) (4.9)\n",
            "Requirement already satisfied: requests-oauthlib>=0.7.0 in /usr/local/lib/python3.10/dist-packages (from google-auth-oauthlib<2,>=0.5->tensorboard<2.16,>=2.15->tensorflow>=2.0.0->gaminet) (1.3.1)\n",
            "Requirement already satisfied: charset-normalizer<4,>=2 in /usr/local/lib/python3.10/dist-packages (from requests<3,>=2.21.0->tensorboard<2.16,>=2.15->tensorflow>=2.0.0->gaminet) (3.3.2)\n",
            "Requirement already satisfied: idna<4,>=2.5 in /usr/local/lib/python3.10/dist-packages (from requests<3,>=2.21.0->tensorboard<2.16,>=2.15->tensorflow>=2.0.0->gaminet) (3.6)\n",
            "Requirement already satisfied: urllib3<3,>=1.21.1 in /usr/local/lib/python3.10/dist-packages (from requests<3,>=2.21.0->tensorboard<2.16,>=2.15->tensorflow>=2.0.0->gaminet) (2.0.7)\n",
            "Requirement already satisfied: certifi>=2017.4.17 in /usr/local/lib/python3.10/dist-packages (from requests<3,>=2.21.0->tensorboard<2.16,>=2.15->tensorflow>=2.0.0->gaminet) (2023.11.17)\n",
            "Requirement already satisfied: MarkupSafe>=2.1.1 in /usr/local/lib/python3.10/dist-packages (from werkzeug>=1.0.1->tensorboard<2.16,>=2.15->tensorflow>=2.0.0->gaminet) (2.1.3)\n",
            "Requirement already satisfied: pyasn1<0.6.0,>=0.4.6 in /usr/local/lib/python3.10/dist-packages (from pyasn1-modules>=0.2.1->google-auth<3,>=1.6.3->tensorboard<2.16,>=2.15->tensorflow>=2.0.0->gaminet) (0.5.1)\n",
            "Requirement already satisfied: oauthlib>=3.0.0 in /usr/local/lib/python3.10/dist-packages (from requests-oauthlib>=0.7.0->google-auth-oauthlib<2,>=0.5->tensorboard<2.16,>=2.15->tensorflow>=2.0.0->gaminet) (3.2.2)\n"
          ]
        }
      ],
      "source": [
        "!pip install gaminet"
      ]
    },
    {
      "cell_type": "code",
      "execution_count": null,
      "metadata": {
        "colab": {
          "base_uri": "https://localhost:8080/"
        },
        "id": "Zn5NenFO0OFj",
        "outputId": "860f99fd-ba83-4f6a-8512-cf6c9fed152d"
      },
      "outputs": [
        {
          "name": "stdout",
          "output_type": "stream",
          "text": [
            "Requirement already satisfied: rulefit in /usr/local/lib/python3.10/dist-packages (0.3.1)\n",
            "Requirement already satisfied: numpy>=1.16.1 in /usr/local/lib/python3.10/dist-packages (from rulefit) (1.23.5)\n",
            "Requirement already satisfied: pandas>=0.24.1 in /usr/local/lib/python3.10/dist-packages (from rulefit) (1.5.3)\n",
            "Requirement already satisfied: scikit-learn>=0.20.2 in /usr/local/lib/python3.10/dist-packages (from rulefit) (1.2.2)\n",
            "Requirement already satisfied: python-dateutil>=2.8.1 in /usr/local/lib/python3.10/dist-packages (from pandas>=0.24.1->rulefit) (2.8.2)\n",
            "Requirement already satisfied: pytz>=2020.1 in /usr/local/lib/python3.10/dist-packages (from pandas>=0.24.1->rulefit) (2023.3.post1)\n",
            "Requirement already satisfied: scipy>=1.3.2 in /usr/local/lib/python3.10/dist-packages (from scikit-learn>=0.20.2->rulefit) (1.11.4)\n",
            "Requirement already satisfied: joblib>=1.1.1 in /usr/local/lib/python3.10/dist-packages (from scikit-learn>=0.20.2->rulefit) (1.3.2)\n",
            "Requirement already satisfied: threadpoolctl>=2.0.0 in /usr/local/lib/python3.10/dist-packages (from scikit-learn>=0.20.2->rulefit) (3.2.0)\n",
            "Requirement already satisfied: six>=1.5 in /usr/local/lib/python3.10/dist-packages (from python-dateutil>=2.8.1->pandas>=0.24.1->rulefit) (1.16.0)\n"
          ]
        }
      ],
      "source": [
        "!pip install rulefit"
      ]
    },
    {
      "cell_type": "code",
      "execution_count": null,
      "metadata": {
        "id": "fXMTQNW4SRa8"
      },
      "outputs": [],
      "source": [
        "import math\n",
        "\n",
        "import pandas as pd\n",
        "import numpy as np\n",
        "import statsmodels.api as sm\n",
        "from sklearn.model_selection import train_test_split\n",
        "import matplotlib.pyplot as plt\n",
        "import seaborn as sns\n",
        "from sklearn.pipeline import make_pipeline\n",
        "from sklearn.preprocessing import PolynomialFeatures,StandardScaler,MinMaxScaler\n",
        "from sklearn import metrics,linear_model,tree,naive_bayes,neighbors,ensemble,neural_network,svm\n",
        "from rulefit import RuleFit\n",
        "import statsmodels.api as sm\n",
        "from interpret.glassbox import ExplainableBoostingClassifier\n",
        "from interpret import show\n",
        "from interpret.perf import ROC\n",
        "import tensorflow as tf\n",
        "from gaminet import GAMINet\n",
        "from gaminet.utils import plot_trajectory, local_visualize, global_visualize_density, plot_regularization,feature_importance_visualize\n",
        "\n"
      ]
    },
    {
      "cell_type": "code",
      "execution_count": null,
      "metadata": {
        "colab": {
          "base_uri": "https://localhost:8080/"
        },
        "id": "s-7b677u0qJy",
        "outputId": "76341369-6a42-41af-ad79-48c8ba005283"
      },
      "outputs": [
        {
          "name": "stdout",
          "output_type": "stream",
          "text": [
            "Requirement already satisfied: machine-learning-datasets in /usr/local/lib/python3.10/dist-packages (0.1.23)\n",
            "Requirement already satisfied: matplotlib<4.0.0,>=3.7.1 in /usr/local/lib/python3.10/dist-packages (from machine-learning-datasets) (3.7.1)\n",
            "Requirement already satisfied: numpy<2.0.0,>=1.23.5 in /usr/local/lib/python3.10/dist-packages (from machine-learning-datasets) (1.23.5)\n",
            "Requirement already satisfied: opencv-python<5.0.0,>=4.5.1 in /usr/local/lib/python3.10/dist-packages (from machine-learning-datasets) (4.8.0.76)\n",
            "Requirement already satisfied: pandas<2.0.0,>=1.5.3 in /usr/local/lib/python3.10/dist-packages (from machine-learning-datasets) (1.5.3)\n",
            "Requirement already satisfied: requests>=2.31.0 in /usr/local/lib/python3.10/dist-packages (from machine-learning-datasets) (2.31.0)\n",
            "Requirement already satisfied: scikit-learn<2.0.0,>=1.2.2 in /usr/local/lib/python3.10/dist-packages (from machine-learning-datasets) (1.2.2)\n",
            "Requirement already satisfied: scipy<2.0.0,>=1.11.3 in /usr/local/lib/python3.10/dist-packages (from machine-learning-datasets) (1.11.4)\n",
            "Requirement already satisfied: seaborn<0.13.0,>=0.12.2 in /usr/local/lib/python3.10/dist-packages (from machine-learning-datasets) (0.12.2)\n",
            "Requirement already satisfied: torchvision<0.17.0,>=0.16.0 in /usr/local/lib/python3.10/dist-packages (from machine-learning-datasets) (0.16.0+cu121)\n",
            "Requirement already satisfied: contourpy>=1.0.1 in /usr/local/lib/python3.10/dist-packages (from matplotlib<4.0.0,>=3.7.1->machine-learning-datasets) (1.2.0)\n",
            "Requirement already satisfied: cycler>=0.10 in /usr/local/lib/python3.10/dist-packages (from matplotlib<4.0.0,>=3.7.1->machine-learning-datasets) (0.12.1)\n",
            "Requirement already satisfied: fonttools>=4.22.0 in /usr/local/lib/python3.10/dist-packages (from matplotlib<4.0.0,>=3.7.1->machine-learning-datasets) (4.47.2)\n",
            "Requirement already satisfied: kiwisolver>=1.0.1 in /usr/local/lib/python3.10/dist-packages (from matplotlib<4.0.0,>=3.7.1->machine-learning-datasets) (1.4.5)\n",
            "Requirement already satisfied: packaging>=20.0 in /usr/local/lib/python3.10/dist-packages (from matplotlib<4.0.0,>=3.7.1->machine-learning-datasets) (23.2)\n",
            "Requirement already satisfied: pillow>=6.2.0 in /usr/local/lib/python3.10/dist-packages (from matplotlib<4.0.0,>=3.7.1->machine-learning-datasets) (9.4.0)\n",
            "Requirement already satisfied: pyparsing>=2.3.1 in /usr/local/lib/python3.10/dist-packages (from matplotlib<4.0.0,>=3.7.1->machine-learning-datasets) (3.1.1)\n",
            "Requirement already satisfied: python-dateutil>=2.7 in /usr/local/lib/python3.10/dist-packages (from matplotlib<4.0.0,>=3.7.1->machine-learning-datasets) (2.8.2)\n",
            "Requirement already satisfied: pytz>=2020.1 in /usr/local/lib/python3.10/dist-packages (from pandas<2.0.0,>=1.5.3->machine-learning-datasets) (2023.3.post1)\n",
            "Requirement already satisfied: charset-normalizer<4,>=2 in /usr/local/lib/python3.10/dist-packages (from requests>=2.31.0->machine-learning-datasets) (3.3.2)\n",
            "Requirement already satisfied: idna<4,>=2.5 in /usr/local/lib/python3.10/dist-packages (from requests>=2.31.0->machine-learning-datasets) (3.6)\n",
            "Requirement already satisfied: urllib3<3,>=1.21.1 in /usr/local/lib/python3.10/dist-packages (from requests>=2.31.0->machine-learning-datasets) (2.0.7)\n",
            "Requirement already satisfied: certifi>=2017.4.17 in /usr/local/lib/python3.10/dist-packages (from requests>=2.31.0->machine-learning-datasets) (2023.11.17)\n",
            "Requirement already satisfied: joblib>=1.1.1 in /usr/local/lib/python3.10/dist-packages (from scikit-learn<2.0.0,>=1.2.2->machine-learning-datasets) (1.3.2)\n",
            "Requirement already satisfied: threadpoolctl>=2.0.0 in /usr/local/lib/python3.10/dist-packages (from scikit-learn<2.0.0,>=1.2.2->machine-learning-datasets) (3.2.0)\n",
            "Requirement already satisfied: torch==2.1.0 in /usr/local/lib/python3.10/dist-packages (from torchvision<0.17.0,>=0.16.0->machine-learning-datasets) (2.1.0+cu121)\n",
            "Requirement already satisfied: filelock in /usr/local/lib/python3.10/dist-packages (from torch==2.1.0->torchvision<0.17.0,>=0.16.0->machine-learning-datasets) (3.13.1)\n",
            "Requirement already satisfied: typing-extensions in /usr/local/lib/python3.10/dist-packages (from torch==2.1.0->torchvision<0.17.0,>=0.16.0->machine-learning-datasets) (4.5.0)\n",
            "Requirement already satisfied: sympy in /usr/local/lib/python3.10/dist-packages (from torch==2.1.0->torchvision<0.17.0,>=0.16.0->machine-learning-datasets) (1.12)\n",
            "Requirement already satisfied: networkx in /usr/local/lib/python3.10/dist-packages (from torch==2.1.0->torchvision<0.17.0,>=0.16.0->machine-learning-datasets) (3.2.1)\n",
            "Requirement already satisfied: jinja2 in /usr/local/lib/python3.10/dist-packages (from torch==2.1.0->torchvision<0.17.0,>=0.16.0->machine-learning-datasets) (3.1.3)\n",
            "Requirement already satisfied: fsspec in /usr/local/lib/python3.10/dist-packages (from torch==2.1.0->torchvision<0.17.0,>=0.16.0->machine-learning-datasets) (2023.6.0)\n",
            "Requirement already satisfied: triton==2.1.0 in /usr/local/lib/python3.10/dist-packages (from torch==2.1.0->torchvision<0.17.0,>=0.16.0->machine-learning-datasets) (2.1.0)\n",
            "Requirement already satisfied: six>=1.5 in /usr/local/lib/python3.10/dist-packages (from python-dateutil>=2.7->matplotlib<4.0.0,>=3.7.1->machine-learning-datasets) (1.16.0)\n",
            "Requirement already satisfied: MarkupSafe>=2.0 in /usr/local/lib/python3.10/dist-packages (from jinja2->torch==2.1.0->torchvision<0.17.0,>=0.16.0->machine-learning-datasets) (2.1.3)\n",
            "Requirement already satisfied: mpmath>=0.19 in /usr/local/lib/python3.10/dist-packages (from sympy->torch==2.1.0->torchvision<0.17.0,>=0.16.0->machine-learning-datasets) (1.3.0)\n"
          ]
        }
      ],
      "source": [
        "!pip install --upgrade machine-learning-datasets\n",
        "import machine_learning_datasets as mldatasets"
      ]
    },
    {
      "cell_type": "code",
      "execution_count": null,
      "metadata": {
        "colab": {
          "base_uri": "https://localhost:8080/"
        },
        "id": "rgmcOjqU0YdK",
        "outputId": "6935b368-826e-462c-9800-706d62f8a7cc"
      },
      "outputs": [
        {
          "name": "stdout",
          "output_type": "stream",
          "text": [
            "https://github.com/PacktPublishing/Interpretable-Machine-Learning-with-Python/raw/master/datasets/aa-domestic-delays-2018.csv.zip downloaded to /content/data/aa-domestic-delays-2018.csv.zip\n",
            "/content/data/aa-domestic-delays-2018.csv.zip uncompressed to /content/data/aa-domestic-delays-2018.csv\n",
            "1 dataset files found in /content/data/aa-domestic-delays-2018.csv folder\n",
            "parsing /content/data/aa-domestic-delays-2018.csv/aa-domestic-delays-2018.csv\n"
          ]
        }
      ],
      "source": [
        "aad18_df=mldatasets.load(\"aa-domestic-delays-2018\")"
      ]
    },
    {
      "cell_type": "code",
      "execution_count": null,
      "metadata": {
        "colab": {
          "base_uri": "https://localhost:8080/"
        },
        "id": "Ir8XHpHC00dk",
        "outputId": "30f1b7e3-d73a-4210-f9db-093df2da83f2"
      },
      "outputs": [
        {
          "name": "stdout",
          "output_type": "stream",
          "text": [
            "<class 'pandas.core.frame.DataFrame'>\n",
            "RangeIndex: 899527 entries, 0 to 899526\n",
            "Data columns (total 23 columns):\n",
            " #   Column                Non-Null Count   Dtype  \n",
            "---  ------                --------------   -----  \n",
            " 0   FL_NUM                899527 non-null  int64  \n",
            " 1   ORIGIN                899527 non-null  object \n",
            " 2   DEST                  899527 non-null  object \n",
            " 3   PLANNED_DEP_DATETIME  899527 non-null  object \n",
            " 4   CRS_DEP_TIME          899527 non-null  int64  \n",
            " 5   DEP_TIME              899527 non-null  float64\n",
            " 6   DEP_DELAY             899527 non-null  float64\n",
            " 7   DEP_AFPH              899527 non-null  float64\n",
            " 8   DEP_RFPH              899527 non-null  float64\n",
            " 9   TAXI_OUT              899527 non-null  float64\n",
            " 10  WHEELS_OFF            899527 non-null  float64\n",
            " 11  CRS_ELAPSED_TIME      899527 non-null  float64\n",
            " 12  PCT_ELAPSED_TIME      899527 non-null  float64\n",
            " 13  DISTANCE              899527 non-null  float64\n",
            " 14  CRS_ARR_TIME          899527 non-null  int64  \n",
            " 15  ARR_AFPH              899527 non-null  float64\n",
            " 16  ARR_RFPH              899527 non-null  float64\n",
            " 17  ARR_DELAY             899527 non-null  float64\n",
            " 18  CARRIER_DELAY         899527 non-null  float64\n",
            " 19  WEATHER_DELAY         899527 non-null  float64\n",
            " 20  NAS_DELAY             899527 non-null  float64\n",
            " 21  SECURITY_DELAY        899527 non-null  float64\n",
            " 22  LATE_AIRCRAFT_DELAY   899527 non-null  float64\n",
            "dtypes: float64(17), int64(3), object(3)\n",
            "memory usage: 157.8+ MB\n",
            "None\n"
          ]
        }
      ],
      "source": [
        "print(aad18_df.info())"
      ]
    },
    {
      "cell_type": "markdown",
      "metadata": {
        "id": "gmnAay9X1WX4"
      },
      "source": [
        "FL_NUM: Flight number.\n",
        "ORIGIN: Starting airport code (IATA).\n",
        "DEST: Destination airport code (IATA).\n",
        "Departure features are as follows:\n",
        "\n",
        "PLANNED_DEP_DATETIME: The planned date and time of the flight.\n",
        "CRS_DEP_TIME: The planned departure time.\n",
        "DEP_TIME: The actual departure time.\n",
        "DEP_AFPH: The number of actual flights per hour occurring during the interval in between the planned and actual departure from the origin airport (factoring in 30 minutes of padding). The feature tells you how busy the origin airport was during takeoff.\n",
        "DEP_RFPH: The departure relative flights per hour is the ratio of actual flights per hour over the median number of flights per hour that occur at the origin airport at that time of day, day of the week, and month of the year. The feature tells you how relatively busy the origin airport was during takeoff.\n",
        "TAXI_OUT: The time duration elapsed between the departure from the origin airport gate and wheels off.\n",
        "WHEELS_OFF: The point in time that the aircraft’s wheels leave the ground.\n",
        "In-flight features are as follows:\n",
        "\n",
        "CRS_ELAPSED_TIME: The planned amount of time needed for the flight trip.\n",
        "PCT_ELAPSED_TIME: The ratio of actual flight time over planned flight time to gauge the plane’s relative speed.\n",
        "DISTANCE: The distance between two airports.\n",
        "Arrival features are as follows:\n",
        "\n",
        "CRS_ARR_TIME: The planned arrival time.\n",
        "ARR_AFPH: The number of actual flights per hour occurring during the interval between the planned and actual arrival time at the destination airport (factoring in 30 minutes of padding). The feature tells you how busy the destination airport was during landing.\n",
        "ARR_RFPH: The arrival relative flights per hour is the ratio of actual flights per hour over the median number of flights per hour that occur at the destination airport at that time of day, day of the week, and month of the year. The feature tells you how relatively busy the destination airport was during landing.\n",
        "Delay features are as follows:\n",
        "\n",
        "DEP_DELAY: The total delay on departure in minutes.\n",
        "ARR_DELAY: The total delay on arrival in minutes can be subdivided into any or all of the following:\n",
        "CARRIER_DELAY: The delay in minutes caused by circumstances within the airline’s control (for example, maintenance or crew problems, aircraft cleaning, baggage loading, fueling, and so on).\n",
        "WEATHER_DELAY: The delay in minutes caused by significant meteorological conditions (actual or forecasted).\n",
        "NAS_DELAY: The delay in minutes mandated by a national aviation system such as non-extreme weather conditions, airport operations, heavy traffic volume, and air traffic control.\n",
        "SECURITY_DELAY: The delay in minutes caused by the evacuation of a terminal or concourse, re-boarding of an aircraft because of a security breach, faulty screening equipment, or long lines above 29 minutes in screening areas.\n",
        "LATE_AIRCRAFT_DELAY: The delay in minutes caused by a previous flight with the same aircraft that arrived late."
      ]
    },
    {
      "cell_type": "code",
      "execution_count": null,
      "metadata": {
        "id": "RbnJxeMX0YZn"
      },
      "outputs": [],
      "source": [
        "aad18_df['PLANNED_DEP_DATETIME']= pd.to_datetime(aad18_df['PLANNED_DEP_DATETIME'])"
      ]
    },
    {
      "cell_type": "code",
      "execution_count": null,
      "metadata": {
        "id": "ANRr15RR0YXW"
      },
      "outputs": [],
      "source": [
        "#create features for month and day\n",
        "aad18_df['DEP_MONTH']=aad18_df['PLANNED_DEP_DATETIME'].dt.month\n",
        "aad18_df['DEP_DOW']=aad18_df['PLANNED_DEP_DATETIME'].dt.dayofweek"
      ]
    },
    {
      "cell_type": "code",
      "execution_count": null,
      "metadata": {
        "id": "FaNGdOXD0YVW"
      },
      "outputs": [],
      "source": [
        "aad18_df=aad18_df.drop(['PLANNED_DEP_DATETIME'],axis=1)"
      ]
    },
    {
      "cell_type": "code",
      "execution_count": null,
      "metadata": {
        "id": "s_tKPr5v0YTR"
      },
      "outputs": [],
      "source": [
        "#Create list with 10 hubs\n",
        "hubs=['CLT' ,'ORD','DFW','LAX','MIA','JFK','LGA','PHL','PHX','DCA']\n",
        "is_origin_hub=aad18_df['ORIGIN'].isin(hubs)\n",
        "is_dest_hub=aad18_df['DEST'].isin(hubs)\n",
        "aad18_df['ORIGIN_HUB']=0\n",
        "aad18_df.loc[is_origin_hub,'ORIGIN_HUB']=1\n",
        "aad18_df['DEST_HUB']=0\n",
        "aad18_df.loc[is_dest_hub,'DEST_HUB']=1\n",
        "aad18_df=aad18_df.drop(['FL_NUM','ORIGIN','DEST'],axis=1)"
      ]
    },
    {
      "cell_type": "markdown",
      "metadata": {
        "id": "42HqbmLW3c4D"
      },
      "source": [
        "After all these operations, we have a fair number of useful features, but we are yet to determine the target feature. There are two columns that could serve this purpose. We have ARR_DELAY, which is the total number of minutes delayed regardless of the reason, and then there’s CARRIER_DELAY, which is just the total number of those minutes that can be attributed to the airline. For instance, look at the following sample of flights delayed over 15 minutes (which is considered late according to the airline’s definition)"
      ]
    },
    {
      "cell_type": "code",
      "execution_count": null,
      "metadata": {
        "colab": {
          "base_uri": "https://localhost:8080/",
          "height": 363
        },
        "id": "r2_BKUvW0YNI",
        "outputId": "58d86c50-7dcd-41f9-ef4e-abe87319253e"
      },
      "outputs": [
        {
          "data": {
            "text/html": [
              "\n",
              "  <div id=\"df-7359ff52-f4de-4b25-8221-0c1b34a07dca\" class=\"colab-df-container\">\n",
              "    <div>\n",
              "<style scoped>\n",
              "    .dataframe tbody tr th:only-of-type {\n",
              "        vertical-align: middle;\n",
              "    }\n",
              "\n",
              "    .dataframe tbody tr th {\n",
              "        vertical-align: top;\n",
              "    }\n",
              "\n",
              "    .dataframe thead th {\n",
              "        text-align: right;\n",
              "    }\n",
              "</style>\n",
              "<table border=\"1\" class=\"dataframe\">\n",
              "  <thead>\n",
              "    <tr style=\"text-align: right;\">\n",
              "      <th></th>\n",
              "      <th>ARR_DELAY</th>\n",
              "      <th>CARRIER_DELAY</th>\n",
              "    </tr>\n",
              "  </thead>\n",
              "  <tbody>\n",
              "    <tr>\n",
              "      <th>8</th>\n",
              "      <td>168.0</td>\n",
              "      <td>136.0</td>\n",
              "    </tr>\n",
              "    <tr>\n",
              "      <th>16</th>\n",
              "      <td>20.0</td>\n",
              "      <td>5.0</td>\n",
              "    </tr>\n",
              "    <tr>\n",
              "      <th>18</th>\n",
              "      <td>242.0</td>\n",
              "      <td>242.0</td>\n",
              "    </tr>\n",
              "    <tr>\n",
              "      <th>19</th>\n",
              "      <td>62.0</td>\n",
              "      <td>62.0</td>\n",
              "    </tr>\n",
              "    <tr>\n",
              "      <th>22</th>\n",
              "      <td>19.0</td>\n",
              "      <td>19.0</td>\n",
              "    </tr>\n",
              "    <tr>\n",
              "      <th>26</th>\n",
              "      <td>26.0</td>\n",
              "      <td>0.0</td>\n",
              "    </tr>\n",
              "    <tr>\n",
              "      <th>29</th>\n",
              "      <td>77.0</td>\n",
              "      <td>77.0</td>\n",
              "    </tr>\n",
              "    <tr>\n",
              "      <th>32</th>\n",
              "      <td>19.0</td>\n",
              "      <td>19.0</td>\n",
              "    </tr>\n",
              "    <tr>\n",
              "      <th>33</th>\n",
              "      <td>18.0</td>\n",
              "      <td>1.0</td>\n",
              "    </tr>\n",
              "    <tr>\n",
              "      <th>40</th>\n",
              "      <td>36.0</td>\n",
              "      <td>16.0</td>\n",
              "    </tr>\n",
              "  </tbody>\n",
              "</table>\n",
              "</div>\n",
              "    <div class=\"colab-df-buttons\">\n",
              "\n",
              "  <div class=\"colab-df-container\">\n",
              "    <button class=\"colab-df-convert\" onclick=\"convertToInteractive('df-7359ff52-f4de-4b25-8221-0c1b34a07dca')\"\n",
              "            title=\"Convert this dataframe to an interactive table.\"\n",
              "            style=\"display:none;\">\n",
              "\n",
              "  <svg xmlns=\"http://www.w3.org/2000/svg\" height=\"24px\" viewBox=\"0 -960 960 960\">\n",
              "    <path d=\"M120-120v-720h720v720H120Zm60-500h600v-160H180v160Zm220 220h160v-160H400v160Zm0 220h160v-160H400v160ZM180-400h160v-160H180v160Zm440 0h160v-160H620v160ZM180-180h160v-160H180v160Zm440 0h160v-160H620v160Z\"/>\n",
              "  </svg>\n",
              "    </button>\n",
              "\n",
              "  <style>\n",
              "    .colab-df-container {\n",
              "      display:flex;\n",
              "      gap: 12px;\n",
              "    }\n",
              "\n",
              "    .colab-df-convert {\n",
              "      background-color: #E8F0FE;\n",
              "      border: none;\n",
              "      border-radius: 50%;\n",
              "      cursor: pointer;\n",
              "      display: none;\n",
              "      fill: #1967D2;\n",
              "      height: 32px;\n",
              "      padding: 0 0 0 0;\n",
              "      width: 32px;\n",
              "    }\n",
              "\n",
              "    .colab-df-convert:hover {\n",
              "      background-color: #E2EBFA;\n",
              "      box-shadow: 0px 1px 2px rgba(60, 64, 67, 0.3), 0px 1px 3px 1px rgba(60, 64, 67, 0.15);\n",
              "      fill: #174EA6;\n",
              "    }\n",
              "\n",
              "    .colab-df-buttons div {\n",
              "      margin-bottom: 4px;\n",
              "    }\n",
              "\n",
              "    [theme=dark] .colab-df-convert {\n",
              "      background-color: #3B4455;\n",
              "      fill: #D2E3FC;\n",
              "    }\n",
              "\n",
              "    [theme=dark] .colab-df-convert:hover {\n",
              "      background-color: #434B5C;\n",
              "      box-shadow: 0px 1px 3px 1px rgba(0, 0, 0, 0.15);\n",
              "      filter: drop-shadow(0px 1px 2px rgba(0, 0, 0, 0.3));\n",
              "      fill: #FFFFFF;\n",
              "    }\n",
              "  </style>\n",
              "\n",
              "    <script>\n",
              "      const buttonEl =\n",
              "        document.querySelector('#df-7359ff52-f4de-4b25-8221-0c1b34a07dca button.colab-df-convert');\n",
              "      buttonEl.style.display =\n",
              "        google.colab.kernel.accessAllowed ? 'block' : 'none';\n",
              "\n",
              "      async function convertToInteractive(key) {\n",
              "        const element = document.querySelector('#df-7359ff52-f4de-4b25-8221-0c1b34a07dca');\n",
              "        const dataTable =\n",
              "          await google.colab.kernel.invokeFunction('convertToInteractive',\n",
              "                                                    [key], {});\n",
              "        if (!dataTable) return;\n",
              "\n",
              "        const docLinkHtml = 'Like what you see? Visit the ' +\n",
              "          '<a target=\"_blank\" href=https://colab.research.google.com/notebooks/data_table.ipynb>data table notebook</a>'\n",
              "          + ' to learn more about interactive tables.';\n",
              "        element.innerHTML = '';\n",
              "        dataTable['output_type'] = 'display_data';\n",
              "        await google.colab.output.renderOutput(dataTable, element);\n",
              "        const docLink = document.createElement('div');\n",
              "        docLink.innerHTML = docLinkHtml;\n",
              "        element.appendChild(docLink);\n",
              "      }\n",
              "    </script>\n",
              "  </div>\n",
              "\n",
              "\n",
              "<div id=\"df-90328e09-6dab-4547-b0ef-b84cb6039242\">\n",
              "  <button class=\"colab-df-quickchart\" onclick=\"quickchart('df-90328e09-6dab-4547-b0ef-b84cb6039242')\"\n",
              "            title=\"Suggest charts\"\n",
              "            style=\"display:none;\">\n",
              "\n",
              "<svg xmlns=\"http://www.w3.org/2000/svg\" height=\"24px\"viewBox=\"0 0 24 24\"\n",
              "     width=\"24px\">\n",
              "    <g>\n",
              "        <path d=\"M19 3H5c-1.1 0-2 .9-2 2v14c0 1.1.9 2 2 2h14c1.1 0 2-.9 2-2V5c0-1.1-.9-2-2-2zM9 17H7v-7h2v7zm4 0h-2V7h2v10zm4 0h-2v-4h2v4z\"/>\n",
              "    </g>\n",
              "</svg>\n",
              "  </button>\n",
              "\n",
              "<style>\n",
              "  .colab-df-quickchart {\n",
              "      --bg-color: #E8F0FE;\n",
              "      --fill-color: #1967D2;\n",
              "      --hover-bg-color: #E2EBFA;\n",
              "      --hover-fill-color: #174EA6;\n",
              "      --disabled-fill-color: #AAA;\n",
              "      --disabled-bg-color: #DDD;\n",
              "  }\n",
              "\n",
              "  [theme=dark] .colab-df-quickchart {\n",
              "      --bg-color: #3B4455;\n",
              "      --fill-color: #D2E3FC;\n",
              "      --hover-bg-color: #434B5C;\n",
              "      --hover-fill-color: #FFFFFF;\n",
              "      --disabled-bg-color: #3B4455;\n",
              "      --disabled-fill-color: #666;\n",
              "  }\n",
              "\n",
              "  .colab-df-quickchart {\n",
              "    background-color: var(--bg-color);\n",
              "    border: none;\n",
              "    border-radius: 50%;\n",
              "    cursor: pointer;\n",
              "    display: none;\n",
              "    fill: var(--fill-color);\n",
              "    height: 32px;\n",
              "    padding: 0;\n",
              "    width: 32px;\n",
              "  }\n",
              "\n",
              "  .colab-df-quickchart:hover {\n",
              "    background-color: var(--hover-bg-color);\n",
              "    box-shadow: 0 1px 2px rgba(60, 64, 67, 0.3), 0 1px 3px 1px rgba(60, 64, 67, 0.15);\n",
              "    fill: var(--button-hover-fill-color);\n",
              "  }\n",
              "\n",
              "  .colab-df-quickchart-complete:disabled,\n",
              "  .colab-df-quickchart-complete:disabled:hover {\n",
              "    background-color: var(--disabled-bg-color);\n",
              "    fill: var(--disabled-fill-color);\n",
              "    box-shadow: none;\n",
              "  }\n",
              "\n",
              "  .colab-df-spinner {\n",
              "    border: 2px solid var(--fill-color);\n",
              "    border-color: transparent;\n",
              "    border-bottom-color: var(--fill-color);\n",
              "    animation:\n",
              "      spin 1s steps(1) infinite;\n",
              "  }\n",
              "\n",
              "  @keyframes spin {\n",
              "    0% {\n",
              "      border-color: transparent;\n",
              "      border-bottom-color: var(--fill-color);\n",
              "      border-left-color: var(--fill-color);\n",
              "    }\n",
              "    20% {\n",
              "      border-color: transparent;\n",
              "      border-left-color: var(--fill-color);\n",
              "      border-top-color: var(--fill-color);\n",
              "    }\n",
              "    30% {\n",
              "      border-color: transparent;\n",
              "      border-left-color: var(--fill-color);\n",
              "      border-top-color: var(--fill-color);\n",
              "      border-right-color: var(--fill-color);\n",
              "    }\n",
              "    40% {\n",
              "      border-color: transparent;\n",
              "      border-right-color: var(--fill-color);\n",
              "      border-top-color: var(--fill-color);\n",
              "    }\n",
              "    60% {\n",
              "      border-color: transparent;\n",
              "      border-right-color: var(--fill-color);\n",
              "    }\n",
              "    80% {\n",
              "      border-color: transparent;\n",
              "      border-right-color: var(--fill-color);\n",
              "      border-bottom-color: var(--fill-color);\n",
              "    }\n",
              "    90% {\n",
              "      border-color: transparent;\n",
              "      border-bottom-color: var(--fill-color);\n",
              "    }\n",
              "  }\n",
              "</style>\n",
              "\n",
              "  <script>\n",
              "    async function quickchart(key) {\n",
              "      const quickchartButtonEl =\n",
              "        document.querySelector('#' + key + ' button');\n",
              "      quickchartButtonEl.disabled = true;  // To prevent multiple clicks.\n",
              "      quickchartButtonEl.classList.add('colab-df-spinner');\n",
              "      try {\n",
              "        const charts = await google.colab.kernel.invokeFunction(\n",
              "            'suggestCharts', [key], {});\n",
              "      } catch (error) {\n",
              "        console.error('Error during call to suggestCharts:', error);\n",
              "      }\n",
              "      quickchartButtonEl.classList.remove('colab-df-spinner');\n",
              "      quickchartButtonEl.classList.add('colab-df-quickchart-complete');\n",
              "    }\n",
              "    (() => {\n",
              "      let quickchartButtonEl =\n",
              "        document.querySelector('#df-90328e09-6dab-4547-b0ef-b84cb6039242 button');\n",
              "      quickchartButtonEl.style.display =\n",
              "        google.colab.kernel.accessAllowed ? 'block' : 'none';\n",
              "    })();\n",
              "  </script>\n",
              "</div>\n",
              "\n",
              "    </div>\n",
              "  </div>\n"
            ],
            "text/plain": [
              "    ARR_DELAY  CARRIER_DELAY\n",
              "8       168.0          136.0\n",
              "16       20.0            5.0\n",
              "18      242.0          242.0\n",
              "19       62.0           62.0\n",
              "22       19.0           19.0\n",
              "26       26.0            0.0\n",
              "29       77.0           77.0\n",
              "32       19.0           19.0\n",
              "33       18.0            1.0\n",
              "40       36.0           16.0"
            ]
          },
          "execution_count": 51,
          "metadata": {},
          "output_type": "execute_result"
        }
      ],
      "source": [
        "aad18_df.loc[aad18_df['ARR_DELAY']>15,['ARR_DELAY','CARRIER_DELAY']].head(10)"
      ]
    },
    {
      "cell_type": "markdown",
      "metadata": {
        "id": "MAPF6T5W4K8H"
      },
      "source": [
        "one of them (#26) wasn’t at all the responsibility of the airline because only 0 minutes could be attributed to the airline. Four of them were partially the responsibility of the airline (#8, #16, #33, and #40), two of which were over 15 minutes late due to the airline (#8 and #40). The rest of them were entirely the airline’s fault. We can tell that although the total delay is useful information, the airline executives were only interested in delays caused by the airline so ARR_DELAY can be discarded."
      ]
    },
    {
      "cell_type": "code",
      "execution_count": null,
      "metadata": {
        "id": "FTU1o7L40YJl"
      },
      "outputs": [],
      "source": [
        "aad18_df=aad18_df.drop(['ARR_DELAY'],axis=1)"
      ]
    },
    {
      "cell_type": "code",
      "execution_count": null,
      "metadata": {
        "id": "9WN22stU0YHO"
      },
      "outputs": [],
      "source": [
        "np.random.seed(42)\n",
        "y=aad18_df['CARRIER_DELAY']\n",
        "X=aad18_df.drop(['CARRIER_DELAY'],axis=1).copy()\n",
        "X_train,X_test,y_train_reg,y_test_reg=train_test_split(X,y,test_size=0.15,random_state=42)\n",
        "y_train_class=y_train_reg.apply(lambda x:1 if x>15 else 0)\n",
        "y_test_class=y_test_reg.apply(lambda x :1 if x>15 else 0)"
      ]
    },
    {
      "cell_type": "markdown",
      "metadata": {
        "id": "E1UQTkl95Ixv"
      },
      "source": [
        "To examine how linearly correlated the features are to the target CARRIER_DELAY, we can compute Pearson’s correlation coefficient, turn coefficients to absolute values (because we aren’t interested in whether they are positively or negatively correlated), and sort them in descending order:"
      ]
    },
    {
      "cell_type": "code",
      "execution_count": null,
      "metadata": {
        "colab": {
          "base_uri": "https://localhost:8080/"
        },
        "id": "eIA9mePp0YFE",
        "outputId": "4524dffb-b5dd-45dc-b5cb-d35dfe07a9f5"
      },
      "outputs": [
        {
          "data": {
            "text/plain": [
              "CARRIER_DELAY          1.000000\n",
              "DEP_DELAY              0.703935\n",
              "ARR_RFPH               0.101742\n",
              "LATE_AIRCRAFT_DELAY    0.083166\n",
              "DEP_RFPH               0.058659\n",
              "ARR_AFPH               0.035135\n",
              "DEP_TIME               0.030941\n",
              "NAS_DELAY              0.026792\n",
              "WHEELS_OFF             0.026787\n",
              "TAXI_OUT               0.024635\n",
              "PCT_ELAPSED_TIME       0.020980\n",
              "CRS_DEP_TIME           0.016032\n",
              "ORIGIN_HUB             0.015334\n",
              "DEST_HUB               0.013932\n",
              "DISTANCE               0.010680\n",
              "DEP_MONTH              0.009728\n",
              "CRS_ELAPSED_TIME       0.008801\n",
              "DEP_DOW                0.007043\n",
              "CRS_ARR_TIME           0.007029\n",
              "DEP_AFPH               0.006053\n",
              "WEATHER_DELAY          0.003002\n",
              "SECURITY_DELAY         0.000460\n",
              "Name: CARRIER_DELAY, dtype: float64"
            ]
          },
          "execution_count": 54,
          "metadata": {},
          "output_type": "execute_result"
        }
      ],
      "source": [
        "corr=aad18_df.corr()\n",
        "abs(corr['CARRIER_DELAY']).sort_values(ascending=False)"
      ]
    },
    {
      "cell_type": "markdown",
      "metadata": {
        "id": "FQnUtNW15b9Q"
      },
      "source": [
        " this is only linearly correlated and on a one-by-one basis. It doesn’t mean that they don’t have a non-linear relationship"
      ]
    },
    {
      "cell_type": "markdown",
      "metadata": {
        "id": "m8BWaEIH5hXT"
      },
      "source": [
        "Check with various regression models\n"
      ]
    },
    {
      "cell_type": "code",
      "execution_count": null,
      "metadata": {
        "id": "DrYRpwzO0YC-"
      },
      "outputs": [],
      "source": [
        "reg_models={\n",
        "    'linear':{'model':linear_model.LinearRegression()},\n",
        "    'linear_poly':{\n",
        "        'model':make_pipeline(\n",
        "            PolynomialFeatures(degree=2),\n",
        "            linear_model.LinearRegression(fit_intercept=False)\n",
        "        )\n",
        "    },\n",
        "    'linear_interact':{\n",
        "        'model':make_pipeline(\n",
        "            PolynomialFeatures(interaction_only=True),\n",
        "            linear_model.LinearRegression(fit_intercept=False)\n",
        "        )\n",
        "    },\n",
        "    'ridge':{\n",
        "        'model':linear_model.RidgeCV(alphas=[1e-3, 1e-2, 1e-1, 1])\n",
        "    },\n",
        "    'decision_tree':{\n",
        "        'model':tree.DecisionTreeRegressor(\n",
        "            max_depth=7,random_state=42\n",
        "        )\n",
        "    },\n",
        "    'rulefit':{\n",
        "        'model': RuleFit(\n",
        "             max_rules=150,\n",
        "             rfmode='regress',\n",
        "             random_state=42\n",
        "        )\n",
        "    },\n",
        "    'knn':{\n",
        "        'model':neighbors.KNeighborsRegressor(n_neighbors=7)\n",
        "    },\n",
        "    'random_forest':{\n",
        "        'model':ensemble.RandomForestRegressor(\n",
        "            max_depth=7,random_state=42\n",
        "        )\n",
        "    },\n",
        "    'mld':{\n",
        "        'model':neural_network.MLPRegressor(\n",
        "            hidden_layer_sizes=(21,),\n",
        "            max_iter=500,\n",
        "            early_stopping=True,\n",
        "            random_state=42\n",
        "\n",
        "        )\n",
        "    }\n",
        "}"
      ]
    },
    {
      "cell_type": "code",
      "execution_count": null,
      "metadata": {
        "colab": {
          "background_save": true,
          "base_uri": "https://localhost:8080/"
        },
        "id": "FT4of-r00YAv",
        "outputId": "0ef14394-0d57-4ee8-d31b-c565b878becb"
      },
      "outputs": [
        {
          "name": "stdout",
          "output_type": "stream",
          "text": [
            "linear\n",
            "linear_poly\n",
            "linear_interact\n",
            "ridge\n",
            "decision_tree\n",
            "rulefit\n",
            "knn\n",
            "random_forest\n",
            "mld\n",
            "CPU times: user 2h 19min 49s, sys: 1min 39s, total: 2h 21min 29s\n",
            "Wall time: 1h 28min 45s\n"
          ]
        }
      ],
      "source": [
        "%%time\n",
        "for model_name in reg_models.keys():\n",
        "    print(model_name)\n",
        "    if model_name != 'rulefit':\n",
        "        fitted_model = reg_models[model_name]['model'].fit(X_train, y_train_reg)\n",
        "        y_train_pred = fitted_model.predict(X_train)\n",
        "        y_test_pred = fitted_model.predict(X_test)\n",
        "    else:\n",
        "        fitted_model = reg_models[model_name]['model'].fit(X_train.values, y_train_reg.values, X_test.columns)\n",
        "        y_train_pred = fitted_model.predict(X_train.values)\n",
        "        y_test_pred = fitted_model.predict(X_test.values)\n",
        "    reg_models[model_name]['fitted'] = fitted_model\n",
        "    reg_models[model_name]['preds'] = y_test_pred\n",
        "    reg_models[model_name]['RMSE_train'] = math.sqrt(metrics.mean_squared_error(y_train_reg, y_train_pred))\n",
        "    reg_models[model_name]['RMSE_test'] = math.sqrt(metrics.mean_squared_error(y_test_reg, y_test_pred))\n",
        "    reg_models[model_name]['R2_test'] = metrics.r2_score(y_test_reg, y_test_pred)\n"
      ]
    },
    {
      "cell_type": "code",
      "execution_count": null,
      "metadata": {
        "id": "LXn91pad0X-i"
      },
      "outputs": [],
      "source": []
    },
    {
      "cell_type": "code",
      "execution_count": null,
      "metadata": {
        "id": "vgs6E8XW0X5o"
      },
      "outputs": [],
      "source": []
    }
  ],
  "metadata": {
    "colab": {
      "provenance": [],
      "authorship_tag": "ABX9TyMD69TzxwwCPfHcVF3b0tJu",
      "include_colab_link": true
    },
    "kernelspec": {
      "display_name": "Python 3",
      "name": "python3"
    },
    "language_info": {
      "name": "python"
    }
  },
  "nbformat": 4,
  "nbformat_minor": 0
}